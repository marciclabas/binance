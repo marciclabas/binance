{
 "cells": [
  {
   "cell_type": "code",
   "execution_count": 1,
   "metadata": {},
   "outputs": [],
   "source": [
    "from binance.util import UserMixin, timestamp\n",
    "from binance.types import Order\n",
    "from binance.margin import Margin\n",
    "\n",
    "client = Margin.env()"
   ]
  },
  {
   "cell_type": "code",
   "execution_count": 2,
   "metadata": {},
   "outputs": [],
   "source": [
    "r2 = await client.oto_order('FDUSDUSDC', working={\n",
    "  'type': 'LIMIT', 'price': '0.9990', 'side': 'BUY', 'quantity': '5000', 'timeInForce': 'GTC'\n",
    "}, pending={\n",
    "  'type': 'LIMIT', 'price': '0.9991', 'side': 'SELL', 'quantity': '5000', 'timeInForce': 'GTC'\n",
    "})"
   ]
  },
  {
   "cell_type": "code",
   "execution_count": 2,
   "metadata": {},
   "outputs": [
    {
     "ename": "NameError",
     "evalue": "name 'r2' is not defined",
     "output_type": "error",
     "traceback": [
      "\u001b[0;31m---------------------------------------------------------------------------\u001b[0m",
      "\u001b[0;31mNameError\u001b[0m                                 Traceback (most recent call last)",
      "Cell \u001b[0;32mIn[2], line 1\u001b[0m\n\u001b[0;32m----> 1\u001b[0m \u001b[38;5;28;01mawait\u001b[39;00m client\u001b[38;5;241m.\u001b[39mcancel_order_list(\u001b[38;5;124m'\u001b[39m\u001b[38;5;124mFDUSDUSDC\u001b[39m\u001b[38;5;124m'\u001b[39m, \u001b[43mr2\u001b[49m\u001b[38;5;241m.\u001b[39morderListId)\n",
      "\u001b[0;31mNameError\u001b[0m: name 'r2' is not defined"
     ]
    }
   ],
   "source": [
    "await client.cancel_order_list('FDUSDUSDC', r2.orderListId)"
   ]
  },
  {
   "cell_type": "code",
   "execution_count": null,
   "metadata": {},
   "outputs": [
    {
     "data": {
      "text/plain": [
       "NewOrderResponse(orderId=11311531, transactTime=1739457890652)"
      ]
     },
     "execution_count": 5,
     "metadata": {},
     "output_type": "execute_result"
    }
   ],
   "source": [
    "\n",
    "\n",
    "r = await client.new_order('FDUSDUSDC', {\n",
    "  'type': 'LIMIT', 'price': '0.9989', 'side': 'BUY', 'quantity': '5000', 'timeInForce': 'GTC'\n",
    "})\n",
    "r"
   ]
  },
  {
   "cell_type": "code",
   "execution_count": 4,
   "metadata": {},
   "outputs": [
    {
     "data": {
      "text/plain": [
       "AnyModel(orderId='11311468', symbol='FDUSDUSDC', origClientOrderId='T97JIcAED7VZQZC2G2UsJi', clientOrderId='0aMvALbE7Xkmk4R0FWJKQ0', transactTime=1739457885217, price='0.9989', origQty='5000', executedQty='0', cummulativeQuoteQty='0', status='CANCELED', timeInForce='GTC', type='LIMIT', side='BUY', isIsolated=False, selfTradePreventionMode='EXPIRE_MAKER')"
      ]
     },
     "execution_count": 4,
     "metadata": {},
     "output_type": "execute_result"
    }
   ],
   "source": [
    "await client.cancel_order('FDUSDUSDC', r.orderId)"
   ]
  },
  {
   "cell_type": "code",
   "execution_count": null,
   "metadata": {},
   "outputs": [
    {
     "ename": "BinanceException",
     "evalue": "msg='Account has insufficient balance for requested action.' code=-2010 tag='ORDER_REJECTED'",
     "output_type": "error",
     "traceback": [
      "\u001b[0;31m---------------------------------------------------------------------------\u001b[0m",
      "\u001b[0;31mBinanceException\u001b[0m                          Traceback (most recent call last)",
      "Cell \u001b[0;32mIn[4], line 13\u001b[0m\n\u001b[1;32m      9\u001b[0m     \u001b[38;5;28;01mreturn\u001b[39;00m \u001b[38;5;28;01mawait\u001b[39;00m \u001b[38;5;28mself\u001b[39m\u001b[38;5;241m.\u001b[39mclient\u001b[38;5;241m.\u001b[39mpost(\u001b[38;5;124mf\u001b[39m\u001b[38;5;124m'\u001b[39m\u001b[38;5;124m/sapi/v1/margin/order?\u001b[39m\u001b[38;5;132;01m{\u001b[39;00mquery\u001b[38;5;132;01m}\u001b[39;00m\u001b[38;5;124m'\u001b[39m, headers\u001b[38;5;241m=\u001b[39m{\u001b[38;5;124m'\u001b[39m\u001b[38;5;124mX-MBX-APIKEY\u001b[39m\u001b[38;5;124m'\u001b[39m: d\u001b[38;5;241m.\u001b[39mapi_key})\n\u001b[1;32m     11\u001b[0m client \u001b[38;5;241m=\u001b[39m Margin\u001b[38;5;241m.\u001b[39menv()\n\u001b[0;32m---> 13\u001b[0m \u001b[38;5;28;01mawait\u001b[39;00m client\u001b[38;5;241m.\u001b[39mnew_order(\u001b[38;5;124m'\u001b[39m\u001b[38;5;124mFDUSDUSDC\u001b[39m\u001b[38;5;124m'\u001b[39m, {\n\u001b[1;32m     14\u001b[0m   \u001b[38;5;124m'\u001b[39m\u001b[38;5;124mtype\u001b[39m\u001b[38;5;124m'\u001b[39m: \u001b[38;5;124m'\u001b[39m\u001b[38;5;124mLIMIT\u001b[39m\u001b[38;5;124m'\u001b[39m, \u001b[38;5;124m'\u001b[39m\u001b[38;5;124mprice\u001b[39m\u001b[38;5;124m'\u001b[39m: \u001b[38;5;124m'\u001b[39m\u001b[38;5;124m0.9980\u001b[39m\u001b[38;5;124m'\u001b[39m, \u001b[38;5;124m'\u001b[39m\u001b[38;5;124mside\u001b[39m\u001b[38;5;124m'\u001b[39m: \u001b[38;5;124m'\u001b[39m\u001b[38;5;124mBUY\u001b[39m\u001b[38;5;124m'\u001b[39m, \u001b[38;5;124m'\u001b[39m\u001b[38;5;124mquantity\u001b[39m\u001b[38;5;124m'\u001b[39m: \u001b[38;5;124m'\u001b[39m\u001b[38;5;124m10\u001b[39m\u001b[38;5;124m'\u001b[39m, \u001b[38;5;124m'\u001b[39m\u001b[38;5;124mtimeInForce\u001b[39m\u001b[38;5;124m'\u001b[39m: \u001b[38;5;124m'\u001b[39m\u001b[38;5;124mGTC\u001b[39m\u001b[38;5;124m'\u001b[39m\n\u001b[1;32m     15\u001b[0m }, isolated\u001b[38;5;241m=\u001b[39m\u001b[38;5;28;01mTrue\u001b[39;00m)\n",
      "File \u001b[0;32m~/github/tribulnation/binance/binance/src/binance/util/client.py:35\u001b[0m, in \u001b[0;36mClientMixin.with_client.<locals>.wrapper\u001b[0;34m(self, *args, **kwargs)\u001b[0m\n\u001b[1;32m     33\u001b[0m \u001b[38;5;28;01mif\u001b[39;00m \u001b[38;5;28mgetattr\u001b[39m(\u001b[38;5;28mself\u001b[39m, \u001b[38;5;124m'\u001b[39m\u001b[38;5;124m_client\u001b[39m\u001b[38;5;124m'\u001b[39m, \u001b[38;5;28;01mNone\u001b[39;00m) \u001b[38;5;129;01mis\u001b[39;00m \u001b[38;5;28;01mNone\u001b[39;00m:\n\u001b[1;32m     34\u001b[0m   \u001b[38;5;28;01masync\u001b[39;00m \u001b[38;5;28;01mwith\u001b[39;00m \u001b[38;5;28mself\u001b[39m:\n\u001b[0;32m---> 35\u001b[0m     \u001b[38;5;28;01mreturn\u001b[39;00m \u001b[38;5;28;01mawait\u001b[39;00m fn(\u001b[38;5;28mself\u001b[39m, \u001b[38;5;241m*\u001b[39margs, \u001b[38;5;241m*\u001b[39m\u001b[38;5;241m*\u001b[39mkwargs)\n\u001b[1;32m     36\u001b[0m \u001b[38;5;28;01melse\u001b[39;00m:\n\u001b[1;32m     37\u001b[0m   \u001b[38;5;28;01mreturn\u001b[39;00m \u001b[38;5;28;01mawait\u001b[39;00m fn(\u001b[38;5;28mself\u001b[39m, \u001b[38;5;241m*\u001b[39margs, \u001b[38;5;241m*\u001b[39m\u001b[38;5;241m*\u001b[39mkwargs)\n",
      "File \u001b[0;32m~/github/tribulnation/binance/binance/src/binance/margin/trading/_new_order.py:30\u001b[0m, in \u001b[0;36m_NewOrder.new_order\u001b[0;34m(self, pair, order, isolated)\u001b[0m\n\u001b[1;32m     19\u001b[0m query \u001b[38;5;241m=\u001b[39m \u001b[38;5;28mself\u001b[39m\u001b[38;5;241m.\u001b[39msigned_query({\n\u001b[1;32m     20\u001b[0m   \u001b[38;5;124m'\u001b[39m\u001b[38;5;124msymbol\u001b[39m\u001b[38;5;124m'\u001b[39m: pair,\n\u001b[1;32m     21\u001b[0m   \u001b[38;5;124m'\u001b[39m\u001b[38;5;124mtimestamp\u001b[39m\u001b[38;5;124m'\u001b[39m: timestamp\u001b[38;5;241m.\u001b[39mnow(),\n\u001b[0;32m   (...)\u001b[0m\n\u001b[1;32m     24\u001b[0m   \u001b[38;5;241m*\u001b[39m\u001b[38;5;241m*\u001b[39morder,\n\u001b[1;32m     25\u001b[0m })\n\u001b[1;32m     26\u001b[0m r \u001b[38;5;241m=\u001b[39m \u001b[38;5;28;01mawait\u001b[39;00m \u001b[38;5;28mself\u001b[39m\u001b[38;5;241m.\u001b[39mclient\u001b[38;5;241m.\u001b[39mpost(\n\u001b[1;32m     27\u001b[0m   \u001b[38;5;124mf\u001b[39m\u001b[38;5;124m'\u001b[39m\u001b[38;5;124m/sapi/v1/margin/order?\u001b[39m\u001b[38;5;132;01m{\u001b[39;00mquery\u001b[38;5;132;01m}\u001b[39;00m\u001b[38;5;124m'\u001b[39m,\n\u001b[1;32m     28\u001b[0m   headers\u001b[38;5;241m=\u001b[39m{\u001b[38;5;124m'\u001b[39m\u001b[38;5;124mX-MBX-APIKEY\u001b[39m\u001b[38;5;124m'\u001b[39m: \u001b[38;5;28mself\u001b[39m\u001b[38;5;241m.\u001b[39mapi_key},\n\u001b[1;32m     29\u001b[0m )\n\u001b[0;32m---> 30\u001b[0m \u001b[38;5;28;01mreturn\u001b[39;00m \u001b[43mvalidate_response\u001b[49m\u001b[43m(\u001b[49m\u001b[43mr\u001b[49m\u001b[38;5;241;43m.\u001b[39;49m\u001b[43mtext\u001b[49m\u001b[43m,\u001b[49m\u001b[43m \u001b[49m\u001b[43mNewOrderResponse\u001b[49m\u001b[43m)\u001b[49m\n",
      "File \u001b[0;32m~/github/tribulnation/binance/binance/src/binance/types/errors.py:63\u001b[0m, in \u001b[0;36mvalidate_response\u001b[0;34m(r, Model)\u001b[0m\n\u001b[1;32m     61\u001b[0m \u001b[38;5;28;01mif\u001b[39;00m \u001b[38;5;124m'\u001b[39m\u001b[38;5;124mcode\u001b[39m\u001b[38;5;124m'\u001b[39m \u001b[38;5;129;01min\u001b[39;00m obj:\n\u001b[1;32m     62\u001b[0m   err \u001b[38;5;241m=\u001b[39m ErrorRoot\u001b[38;5;241m.\u001b[39mmodel_validate(obj)\u001b[38;5;241m.\u001b[39mroot\n\u001b[0;32m---> 63\u001b[0m   \u001b[38;5;28;01mraise\u001b[39;00m BinanceException(err)\n\u001b[1;32m     64\u001b[0m \u001b[38;5;28;01melse\u001b[39;00m:\n\u001b[1;32m     65\u001b[0m   \u001b[38;5;28;01mreturn\u001b[39;00m Model\u001b[38;5;241m.\u001b[39mmodel_validate(obj)\n",
      "\u001b[0;31mBinanceException\u001b[0m: msg='Account has insufficient balance for requested action.' code=-2010 tag='ORDER_REJECTED'"
     ]
    }
   ],
   "source": [
    "class Dev(UserMixin):\n",
    "  @UserMixin.with_client\n",
    "  async def test(self, order: Order):\n",
    "    query = self.signed_query({\n",
    "      'symbol': 'FDUSDUSDC',\n",
    "      'timestamp': timestamp.now(),\n",
    "      **order\n",
    "    })\n",
    "    return await self.client.post(f'/sapi/v1/margin/order?{query}', headers={'X-MBX-APIKEY': d.api_key})\n",
    "\n",
    "client = Margin.env()\n",
    "\n",
    "await client.new_order('FDUSDUSDC', {\n",
    "  'type': 'LIMIT', 'price': '0.9980', 'side': 'BUY', 'quantity': '10', 'timeInForce': 'GTC'\n",
    "}, isolated=True)"
   ]
  }
 ],
 "metadata": {
  "kernelspec": {
   "display_name": ".venv",
   "language": "python",
   "name": "python3"
  },
  "language_info": {
   "codemirror_mode": {
    "name": "ipython",
    "version": 3
   },
   "file_extension": ".py",
   "mimetype": "text/x-python",
   "name": "python",
   "nbconvert_exporter": "python",
   "pygments_lexer": "ipython3",
   "version": "3.11.10"
  }
 },
 "nbformat": 4,
 "nbformat_minor": 2
}
