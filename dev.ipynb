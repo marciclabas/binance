{
 "cells": [
  {
   "cell_type": "code",
   "execution_count": 1,
   "metadata": {},
   "outputs": [],
   "source": [
    "from binance import Binance\n",
    "\n",
    "client = Binance.env()"
   ]
  },
  {
   "cell_type": "code",
   "execution_count": 2,
   "metadata": {},
   "outputs": [
    {
     "data": {
      "text/plain": [
       "AccountInfo(makerCommission=10, takerCommission=10, buyerCommission=0, sellerCommission=0, commissionRates=CommissionRates(maker='0.00100000', taker='0.00100000', buyer='0.00000000', seller='0.00000000'), canTrade=True, canWithdraw=True, canDeposit=True, brokered=False, requireSelfTradePrevention=False, preventSor=False, updateTime=1738101201682, accountType='SPOT', balances=[Balance(asset='BNB', free='0.00006418', locked='0.00000000'), Balance(asset='USDT', free='0.28200000', locked='1790.00000000'), Balance(asset='USDC', free='6.20943022', locked='0.00000000'), Balance(asset='WIN', free='0.02400020', locked='0.00000000'), Balance(asset='EUR', free='0.05440000', locked='0.00000000'), Balance(asset='LDAVA', free='14.80468371', locked='0.00000000'), Balance(asset='LDGMT', free='98.25969596', locked='0.00000000'), Balance(asset='LDDEXE', free='0.00010411', locked='0.00000000'), Balance(asset='FDUSD', free='0.96778000', locked='0.00000000'), Balance(asset='EURI', free='0.00002385', locked='0.00000000'), Balance(asset='LDEURI', free='0.04810383', locked='0.00000000'), Balance(asset='LDEIGEN', free='0.00054648', locked='0.00000000'), Balance(asset='LDBNSOL', free='0.03881676', locked='0.00000000'), Balance(asset='LDVANA', free='1.06848535', locked='0.00000000'), Balance(asset='LDUSUAL', free='25.36655507', locked='0.00000000')], uid=1021779938)"
      ]
     },
     "execution_count": 2,
     "metadata": {},
     "output_type": "execute_result"
    }
   ],
   "source": [
    "await client.spot.account_info()"
   ]
  },
  {
   "cell_type": "code",
   "execution_count": 2,
   "metadata": {},
   "outputs": [
    {
     "data": {
      "text/plain": [
       "NewOrderResponse(orderId=790434160, transactTime=1738099059516)"
      ]
     },
     "execution_count": 2,
     "metadata": {},
     "output_type": "execute_result"
    }
   ],
   "source": [
    "r1 = await client.spot.new_order('USDCUSDT', {\n",
    "  'quantity': '5', 'price': '1.001', 'side': 'SELL', 'type': 'LIMIT', 'timeInForce': 'GTC',\n",
    "})\n",
    "r1"
   ]
  },
  {
   "cell_type": "code",
   "execution_count": 3,
   "metadata": {},
   "outputs": [
    {
     "data": {
      "text/plain": [
       "QueryOrderResponse(orderId=790434160, orderListId=-1, price='1.00100000', origQty='5.00000000', executedQty='0.00000000', cummulativeQuoteQty='0.00000000', status='NEW', timeInForce='GTC', type='LIMIT', side='SELL', stopPrice='0.00000000', icebergQty='0.00000000', time=1738099059516, updateTime=1738099059516, isWorking=True, origQuoteOrderQty='0.00000000')"
      ]
     },
     "execution_count": 3,
     "metadata": {},
     "output_type": "execute_result"
    }
   ],
   "source": [
    "await client.spot.query_order('USDCUSDT', r1.orderId)"
   ]
  },
  {
   "cell_type": "code",
   "execution_count": 4,
   "metadata": {},
   "outputs": [
    {
     "data": {
      "text/plain": [
       "ReplaceSuccess(cancelResult='SUCCESS', newOrderResult='SUCCESS', cancelResponse=NewOrderResponse(orderId=790434160, transactTime=1738099063401), newOrderResponse=NewOrderResponse(orderId=790434196, transactTime=1738099063401))"
      ]
     },
     "execution_count": 4,
     "metadata": {},
     "output_type": "execute_result"
    }
   ],
   "source": [
    "r2 = await client.spot.replace_order('USDCUSDT', r1.orderId, {\n",
    "  'quantity': '5', 'price': '1.001', 'side': 'SELL', 'type': 'LIMIT', 'timeInForce': 'GTC',\n",
    "})\n",
    "r2"
   ]
  },
  {
   "cell_type": "code",
   "execution_count": 6,
   "metadata": {},
   "outputs": [],
   "source": [
    "assert r2.newOrderResult == 'SUCCESS'\n",
    "await client.spot.cancel_order('USDCUSDT', r2.newOrderResponse.orderId)"
   ]
  }
 ],
 "metadata": {
  "kernelspec": {
   "display_name": ".venv",
   "language": "python",
   "name": "python3"
  },
  "language_info": {
   "codemirror_mode": {
    "name": "ipython",
    "version": 3
   },
   "file_extension": ".py",
   "mimetype": "text/x-python",
   "name": "python",
   "nbconvert_exporter": "python",
   "pygments_lexer": "ipython3",
   "version": "3.11.10"
  }
 },
 "nbformat": 4,
 "nbformat_minor": 2
}
