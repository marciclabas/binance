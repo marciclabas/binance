{
 "cells": [
  {
   "cell_type": "code",
   "execution_count": 1,
   "metadata": {},
   "outputs": [],
   "source": [
    "from binance import Binance\n",
    "\n",
    "client = Binance.env()"
   ]
  },
  {
   "cell_type": "code",
   "execution_count": 2,
   "metadata": {},
   "outputs": [
    {
     "data": {
      "text/plain": [
       "ExchangeInfo(timezone='UTC', serverTime=1735037726281, symbols={'FDUSDUSDC': SymbolInfo(symbol='FDUSDUSDC', status='TRADING', baseAsset='FDUSD', baseAssetPrecision=8, quoteAsset='USDC', quotePrecision=8, quoteAssetPrecision=8, baseCommissionPrecision=8, quoteCommissionPrecision=8, orderTypes=['LIMIT', 'LIMIT_MAKER', 'MARKET', 'STOP_LOSS', 'STOP_LOSS_LIMIT', 'TAKE_PROFIT', 'TAKE_PROFIT_LIMIT'], icebergAllowed=True, ocoAllowed=True, quoteOrderQtyMarketAllowed=True, isSpotTradingAllowed=True, isMarginTradingAllowed=True, filters=[PriceFilter(filterType='PRICE_FILTER', minPrice='0.00010000', maxPrice='1000.00000000', tickSize='0.00010000'), LotSize(filterType='LOT_SIZE', minQty='1.00000000', maxQty='10000000.00000000', stepSize='1.00000000'), OtherFilter(filterType='ICEBERG_PARTS'), OtherFilter(filterType='MARKET_LOT_SIZE'), OtherFilter(filterType='TRAILING_DELTA'), OtherFilter(filterType='PERCENT_PRICE_BY_SIDE'), OtherFilter(filterType='NOTIONAL'), OtherFilter(filterType='MAX_NUM_ORDERS'), OtherFilter(filterType='MAX_NUM_ALGO_ORDERS')])}, code=None)"
      ]
     },
     "execution_count": 2,
     "metadata": {},
     "output_type": "execute_result"
    }
   ],
   "source": [
    "await client.exchange_info('FDUSDUSDC')"
   ]
  },
  {
   "cell_type": "code",
   "execution_count": null,
   "metadata": {},
   "outputs": [],
   "source": [
    "await client.spot_order('BTCUSDT', {\n",
    "  'price', 10000,\n",
    "})"
   ]
  }
 ],
 "metadata": {
  "kernelspec": {
   "display_name": ".venv",
   "language": "python",
   "name": "python3"
  },
  "language_info": {
   "codemirror_mode": {
    "name": "ipython",
    "version": 3
   },
   "file_extension": ".py",
   "mimetype": "text/x-python",
   "name": "python",
   "nbconvert_exporter": "python",
   "pygments_lexer": "ipython3",
   "version": "3.11.10"
  }
 },
 "nbformat": 4,
 "nbformat_minor": 2
}
